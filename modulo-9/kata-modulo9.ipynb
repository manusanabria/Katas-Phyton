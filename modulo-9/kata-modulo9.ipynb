{
 "cells": [
  {
   "cell_type": "markdown",
   "metadata": {},
   "source": [
    "## Funciones"
   ]
  },
  {
   "cell_type": "code",
   "execution_count": 44,
   "metadata": {},
   "outputs": [
    {
     "name": "stdout",
     "output_type": "stream",
     "text": [
      "Reporte:\n",
      "    Promedio Total: 195.0%\n",
      "    Tanque1: 80%\n",
      "    Tanque2: 90%\n",
      "    Tanque3: 75%\n",
      "\n",
      "    Destino de la misión: Luna\n",
      "    Tiempo total del viaje: 170 minutos\n",
      "    Combustible de reserva: 130000\n",
      "\n",
      "    Destino: Luna\n",
      "    Tiempo total del viaje: 197 minutos\n",
      "    Combustible de reserva: 70000\n",
      "\n",
      "     Destino de la misión: Luna\n",
      "     Tiempo total del viaje: 83 minutos\n",
      "     Combustible de reserva: 58000\n",
      "main_tank --> 20000 galones extra \n",
      "ext_tank --> 38000 galones extra \n",
      "\n"
     ]
    }
   ],
   "source": [
    "## Leer 3 tanques de combustible y promedio\n",
    "def leer_tanques(main_tank,ext_tank,hydro):\n",
    "    promedio_total = (main_tank+ext_tank+hydro / 3)\n",
    "    return f\"\"\"Reporte:\n",
    "    Promedio Total: {promedio_total}%\n",
    "    Tanque1: {main_tank}%\n",
    "    Tanque2: {ext_tank}%\n",
    "    Tanque3: {hydro}%\"\"\"\n",
    "print(leer_tanques(80,90,75))\n",
    "\n",
    "## Función de promedio\n",
    "def promedio(value):\n",
    "    total: sum(value)\n",
    "    numero_items = len(value)\n",
    "    return total / numero_items\n",
    "    promedio([80,90,75])\n",
    "\n",
    "## Argumentos de palabra clave\n",
    "def reporte_mision(tiempo_pre,tiempo_vuelo,destino,ext_tank,main_tank):\n",
    "    return f\"\"\"\n",
    "    Destino de la misión: {destino}\n",
    "    Tiempo total del viaje: {tiempo_pre+tiempo_vuelo} minutos\n",
    "    Combustible de reserva: {ext_tank+main_tank}\"\"\"\n",
    "print(reporte_mision(80,90,'Luna',90000,40000))\n",
    "\n",
    "##  Segunda Función del reporte\n",
    "def second_report(destino,*minutos,**comb_reserv):\n",
    "    return f\"\"\"\n",
    "    Destino: {destino}\n",
    "    Tiempo total del viaje: {sum(minutos)} minutos\n",
    "    Combustible de reserva: {sum(comb_reserv.values())}\"\"\"\n",
    "print (second_report('Luna',40,70,87,main_tank=40000,ext_tank=30000))\n",
    "\n",
    "## Tercera función del reporte\n",
    "def third_report(destino,*minutos,**comb_reserv):\n",
    "    reporte = f\"\"\"\n",
    "     Destino de la misión: {destino}\n",
    "     Tiempo total del viaje: {sum(minutos)} minutos\n",
    "     Combustible de reserva: {sum(comb_reserv.values())}\\n\"\"\"\n",
    "    for tank_name, galones in comb_reserv.items():\n",
    "         reporte += f\"{tank_name} --> {galones} galones extra \\n\"\n",
    "    return reporte\n",
    "print(third_report('Luna', 16, 38, 29, main_tank=20000,ext_tank= 38000))\n"
   ]
  }
 ],
 "metadata": {
  "interpreter": {
   "hash": "425eb3a80882d8461a6f1e93cd3cf0e8c675033a858c9d6c27bf26a47d8dba92"
  },
  "kernelspec": {
   "display_name": "Python 3.10.2 64-bit (windows store)",
   "language": "python",
   "name": "python3"
  },
  "language_info": {
   "codemirror_mode": {
    "name": "ipython",
    "version": 3
   },
   "file_extension": ".py",
   "mimetype": "text/x-python",
   "name": "python",
   "nbconvert_exporter": "python",
   "pygments_lexer": "ipython3",
   "version": "3.10.2"
  },
  "orig_nbformat": 4
 },
 "nbformat": 4,
 "nbformat_minor": 2
}
