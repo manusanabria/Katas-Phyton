{
 "cells": [
  {
   "cell_type": "markdown",
   "metadata": {},
   "source": [
    "## Transformar cadenas\n"
   ]
  },
  {
   "cell_type": "code",
   "execution_count": 59,
   "metadata": {},
   "outputs": [
    {
     "name": "stdout",
     "output_type": "stream",
     "text": [
      "['Interesting facts about the Moon', \"The Moon is Earth's only satellite\", 'There are several interesting facts about the Moon and how it affects life here on Earth', '\\nOn average, the Moon moves 4cm away from the Earth every year', 'This yearly drift is not significant enough to cause immediate effects on Earth.'] \n",
      "\n",
      "Interesting facts about the Moon\n",
      "The Moon is Earth's only satellite\n",
      "There are several interesting facts about the Moon and how it affects life here on Earth\n",
      "\n",
      "On average, the Moon moves 4cm away from the Earth every year\n",
      "This yearly drift is not significant enough to cause immediate effects on Earth.\n",
      "\n",
      "On average, the Moon moves 4Celsiusm away from the Earth every year\n"
     ]
    }
   ],
   "source": [
    "text = \"\"\"Interesting facts about the Moon. The Moon is Earth's only satellite. There are several interesting facts about the Moon and how it affects life here on Earth. \n",
    "On average, the Moon moves 4cm away from the Earth every year. This yearly drift is not significant enough to cause immediate effects on Earth.\"\"\"\n",
    "keywords = ['average','temperature','distance']\n",
    "text_in_parts = text.split('. ')\n",
    "print(text_in_parts, '\\n')\n",
    "for phrase in text_in_parts:\n",
    "    for keyword in keywords: \n",
    "        print(phrase)\n",
    "        break\n",
    "for phrase in text_in_parts:\n",
    "    for keyword in keywords:\n",
    "        if keyword in phrase:\n",
    "            print(phrase.replace('c', 'Celsius'))\n",
    "            break\n"
   ]
  },
  {
   "cell_type": "markdown",
   "metadata": {},
   "source": [
    "## Formateando Cadenas"
   ]
  },
  {
   "cell_type": "code",
   "execution_count": 76,
   "metadata": {},
   "outputs": [
    {
     "name": "stdout",
     "output_type": "stream",
     "text": [
      "Datos de gravedad sobre Ganímides\n",
      " Datos de gravedad sobre: Ganímides\n",
      "-------------------------------------------\n",
      "Nombre del planeta: Earth\n",
      "Gravedad en Ganímides: 0.00143\n"
     ]
    }
   ],
   "source": [
    "planet = 'Marte'\n",
    "gravity = 0.00143\n",
    "name = 'Ganímides'\n",
    "planet = 'Earth'\n",
    "title = f'Datos de gravedad sobre {name}'\n",
    "print(title)\n",
    "## Plantilla\n",
    "hechos = f\"\"\"{'-'*80}\n",
    "Nombre del planeta: {planet}\n",
    "Gravedad en {name}: {gravity * 1000}\"\"\"\n",
    "\n",
    "## Unir cadenas\n",
    "template = f\"\"\"{title.title()} {hechos}\"\"\"\n",
    "\n",
    "\n",
    "## Comprobar plantilla\n",
    "new_template = \"\"\" Datos de gravedad sobre: {name}\n",
    "-------------------------------------------\n",
    "Nombre del planeta: {planet}\n",
    "Gravedad en {name}: {gravity}\"\"\"\n",
    "print(new_template.format(name=name,planet=planet,gravity=gravity))\n"
   ]
  }
 ],
 "metadata": {
  "interpreter": {
   "hash": "425eb3a80882d8461a6f1e93cd3cf0e8c675033a858c9d6c27bf26a47d8dba92"
  },
  "kernelspec": {
   "display_name": "Python 3.10.2 64-bit (windows store)",
   "language": "python",
   "name": "python3"
  },
  "language_info": {
   "codemirror_mode": {
    "name": "ipython",
    "version": 3
   },
   "file_extension": ".py",
   "mimetype": "text/x-python",
   "name": "python",
   "nbconvert_exporter": "python",
   "pygments_lexer": "ipython3",
   "version": "3.10.2"
  },
  "orig_nbformat": 4
 },
 "nbformat": 4,
 "nbformat_minor": 2
}
