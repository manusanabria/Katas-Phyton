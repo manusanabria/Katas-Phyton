{
 "cells": [
  {
   "cell_type": "markdown",
   "metadata": {},
   "source": [
    "## Listas\n"
   ]
  },
  {
   "cell_type": "code",
   "execution_count": 11,
   "metadata": {},
   "outputs": [
    {
     "name": "stdout",
     "output_type": "stream",
     "text": [
      "Total de planetas:  8\n",
      "Plutón es el último planeta\n",
      "Los planetas más cercanos al sol son Mars\n",
      "['Mercury', 'Venus', 'Earth']\n",
      "Los planetas más lejanos al sol son Mars\n",
      "Jupiter\n"
     ]
    }
   ],
   "source": [
    "## Lista de planetas\n",
    "planetas = ['Mercury', 'Venus', 'Earth', 'Mars', 'Jupiter', 'Saturn', 'Uranus', 'Neptune']\n",
    "print('Total de planetas: ',len(planetas))\n",
    "\n",
    "planetas.append('Plutón')\n",
    "print(planetas[-1], 'es el último planeta')\n",
    "\n",
    "planetas2 = ['Mercury', 'Venus', 'Earth', 'Mars', 'Jupiter', 'Saturn', 'Neptune']\n",
    "planeta_seleccionado = input('Ingresa un planeta iniciando con mayúscula')\n",
    "planeta_index = planetas.index(planeta_seleccionado)\n",
    "print('Los planetas más cercanos al sol son ' + planeta_seleccionado)\n",
    "print(planetas[0:planeta_index])\n",
    "print('Los planetas más lejanos al sol son ' + planeta_seleccionado)\n",
    "print(planetas[planeta_index + 1])"
   ]
  }
 ],
 "metadata": {
  "interpreter": {
   "hash": "425eb3a80882d8461a6f1e93cd3cf0e8c675033a858c9d6c27bf26a47d8dba92"
  },
  "kernelspec": {
   "display_name": "Python 3.10.2 64-bit (windows store)",
   "language": "python",
   "name": "python3"
  },
  "language_info": {
   "codemirror_mode": {
    "name": "ipython",
    "version": 3
   },
   "file_extension": ".py",
   "mimetype": "text/x-python",
   "name": "python",
   "nbconvert_exporter": "python",
   "pygments_lexer": "ipython3",
   "version": "3.10.2"
  },
  "orig_nbformat": 4
 },
 "nbformat": 4,
 "nbformat_minor": 2
}
