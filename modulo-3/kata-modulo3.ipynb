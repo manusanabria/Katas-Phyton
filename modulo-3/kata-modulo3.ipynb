{
 "cells": [
  {
   "cell_type": "markdown",
   "metadata": {},
   "source": [
    "## Velocidad de asteroide"
   ]
  },
  {
   "cell_type": "code",
   "execution_count": 3,
   "metadata": {},
   "outputs": [
    {
     "name": "stdout",
     "output_type": "stream",
     "text": [
      "El asteroide se acerca a la tierra demasiado rápido\n"
     ]
    }
   ],
   "source": [
    "velAsteriode = 49\n",
    "if (velAsteriode > 25):\n",
    "    print('El asteroide se acerca a la tierra demasiado rápido!!!')\n",
    "else:\n",
    "    print('No hay peligro')"
   ]
  },
  {
   "cell_type": "code",
   "execution_count": 4,
   "metadata": {},
   "outputs": [
    {
     "name": "stdout",
     "output_type": "stream",
     "text": [
      "No hay nada en cielo que ver\n"
     ]
    }
   ],
   "source": [
    "velAsteriode = 12\n",
    "if (velAsteriode >= 20):\n",
    "    print('Puedes ver el rayo de luz desde la tierra!!!')\n",
    "elif(velAsteriode == 20):\n",
    "    print('Puedes ver el rayo de luz desde la tierra!!!')\n",
    "else:\n",
    "    print('No hay nada en cielo que ver')\n"
   ]
  },
  {
   "cell_type": "code",
   "execution_count": 6,
   "metadata": {},
   "outputs": [
    {
     "name": "stdout",
     "output_type": "stream",
     "text": [
      "No hay nada en cielo que ver\n"
     ]
    }
   ],
   "source": [
    "velAsteroide = 25\n",
    "tamanoAsteroide = 40\n",
    "if velAsteroide < 25 and tamanoAsteroide > 25:\n",
    "    print('Alerta!!!')\n",
    "elif velAsteriode >= 20:\n",
    "    print('Puedes ver el rayo de luz desde la tierra!!!')\n",
    "elif tamanoAsteroide <25:\n",
    "    print('No hay nada en cielo que ver')\n",
    "else:\n",
    "    print('No hay nada en cielo que ver')"
   ]
  }
 ],
 "metadata": {
  "interpreter": {
   "hash": "425eb3a80882d8461a6f1e93cd3cf0e8c675033a858c9d6c27bf26a47d8dba92"
  },
  "kernelspec": {
   "display_name": "Python 3.10.2 64-bit (windows store)",
   "language": "python",
   "name": "python3"
  },
  "language_info": {
   "codemirror_mode": {
    "name": "ipython",
    "version": 3
   },
   "file_extension": ".py",
   "mimetype": "text/x-python",
   "name": "python",
   "nbconvert_exporter": "python",
   "pygments_lexer": "ipython3",
   "version": "3.10.2"
  },
  "orig_nbformat": 4
 },
 "nbformat": 4,
 "nbformat_minor": 2
}
