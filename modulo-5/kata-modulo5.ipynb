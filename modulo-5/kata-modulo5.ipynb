{
 "cells": [
  {
   "cell_type": "markdown",
   "metadata": {},
   "source": [
    "## Operadores Aritméticos\n"
   ]
  },
  {
   "cell_type": "code",
   "execution_count": 8,
   "metadata": {},
   "outputs": [
    {
     "name": "stdout",
     "output_type": "stream",
     "text": [
      "Distancia Km: 71050670\n",
      "Distancia Mi: 44122466.07\n",
      "None\n",
      "2\n",
      "1.242\n"
     ]
    }
   ],
   "source": [
    "planeta1 = 149597870\n",
    "planeta2 = 78547200\n",
    "\n",
    "## Distancia entre planetas\n",
    "distancia_km = planeta1 - planeta2\n",
    "print(f\"\"\"Distancia Km: {distancia_km}\"\"\")\n",
    "\n",
    "distancia_mi = distancia_km * 0.621\n",
    "print(print(f\"\"\"Distancia Mi: {distancia_mi}\"\"\"))\n",
    "\n",
    "## Convertir cadenas en números\n",
    "planeta1 = input('Distancia para el primer planeta')\n",
    "planeta2 = input('Distancia desde el sol para el segundo planeta')\n",
    "\n",
    "planeta1 = int(planeta1)\n",
    "planeta2 = int(planeta2)\n",
    "\n",
    "distancia_km = planeta2 - planeta1\n",
    "print(distancia_km)\n",
    "\n",
    "distancia_mi = distancia_km * 0.621\n",
    "print(abs(distancia_mi))\n",
    "\n",
    "\n",
    "\n"
   ]
  }
 ],
 "metadata": {
  "interpreter": {
   "hash": "425eb3a80882d8461a6f1e93cd3cf0e8c675033a858c9d6c27bf26a47d8dba92"
  },
  "kernelspec": {
   "display_name": "Python 3.10.2 64-bit (windows store)",
   "language": "python",
   "name": "python3"
  },
  "language_info": {
   "codemirror_mode": {
    "name": "ipython",
    "version": 3
   },
   "file_extension": ".py",
   "mimetype": "text/x-python",
   "name": "python",
   "nbconvert_exporter": "python",
   "pygments_lexer": "ipython3",
   "version": "3.10.2"
  },
  "orig_nbformat": 4
 },
 "nbformat": 4,
 "nbformat_minor": 2
}
